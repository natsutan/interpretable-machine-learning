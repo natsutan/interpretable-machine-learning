{
 "cells": [
  {
   "cell_type": "markdown",
   "metadata": {},
   "source": [
    "# bikeの特徴量の解釈\n",
    "https://christophm.github.io/interpretable-ml-book/limo.html\n",
    "\n",
    "## データの意味\n",
    "\n",
    "- cnt:casualとregisteredのユーザーの数。回帰のターゲット\n",
    "- season:spring, summer, fall or winter.\n",
    "- holiday\n",
    "- year: 2011 or 2012.\n",
    "- dateday:2011/01/01からの日数。この特料量は時間経過によるトレンドを導くのに使用する。\n",
    "- working day or weekend.\n",
    "- 天気:\n",
    "    - 1 clear, few clouds, partly cloudy, cloudy\n",
    "    - 2 mist + clouds, mist + broken clouds, mist + few clouds, mist\n",
    "    - 3 light snow, light rain + thunderstorm + scattered clouds, light rain + scattered clouds\n",
    "    - 4 heavy rain + ice pallets + thunderstorm + mist, snow + mist\n",
    "- temp：Temperature in degrees Celsius.41で割り、正規化されている。\n",
    "- atemp：体感温度。50で割り、正規化されている。\n",
    "- hum:湿度(0 to 100). 100で割り正規化されている。\n",
    "- Wind speed: km/hour.　67で割り、正規化されている。"
   ]
  },
  {
   "cell_type": "code",
   "execution_count": null,
   "metadata": {},
   "outputs": [],
   "source": [
    "import os\n",
    "import copy\n",
    "import matplotlib\n",
    "import matplotlib.pyplot as plt\n",
    "import numpy as np\n",
    "import sklearn\n",
    "from sklearn import linear_model\n",
    "from sklearn.preprocessing import LabelBinarizer\n",
    "from sklearn.preprocessing import OneHotEncoder\n",
    "from pandas import Series, DataFrame\n",
    "import pandas as pd\n",
    "import seaborn as sns;sns.set()\n",
    "%matplotlib inline\n",
    "os.getcwd()"
   ]
  },
  {
   "cell_type": "code",
   "execution_count": null,
   "metadata": {},
   "outputs": [],
   "source": [
    "data_dir = '../../data/bike'\n",
    "day_file = 'day.csv'\n",
    "hour_file = 'hour.csv'"
   ]
  },
  {
   "cell_type": "code",
   "execution_count": null,
   "metadata": {},
   "outputs": [],
   "source": [
    "df_day = pd.read_csv(os.path.join(data_dir, day_file))\n",
    "# headにすることで先頭だけ確認できる。\n",
    "df_day.head()"
   ]
  },
  {
   "cell_type": "code",
   "execution_count": null,
   "metadata": {},
   "outputs": [],
   "source": [
    "# ここからデータを整形していく\n",
    "# 目的変数をYに\n",
    "Y = df_day['cnt']\n",
    "\n",
    "#　dteday をなくしt、instantをdayに（本当は日付を経過日数に変換しないと駄目）\n",
    "del df_day['dteday']\n",
    "del df_day['yr']\n",
    "\n",
    "df_day = df_day.rename(columns={'instant': 'days'})\n",
    "\n",
    "# onehot(季節)\n",
    "encoder = OneHotEncoder()\n",
    "enced = encoder.fit_transform(df_day.season.values.reshape(1, -1).transpose())\n",
    "df_season = pd.DataFrame(index=df_day.season.index, columns=['season-SPRING', 'season-SUMMER', 'season-FALL', \"season-WINTER\"], data=enced.toarray())\n",
    "df_day = pd.concat([df_day, df_season], axis=1)\n",
    "del df_day['season']\n",
    "\n",
    "# onehot(天気)\n",
    "encoder = OneHotEncoder()\n",
    "enced = encoder.fit_transform(df_day.weathersit.values.reshape(1, -1).transpose())\n",
    "df_weather = pd.DataFrame(index=df_day.weathersit.index, columns=['weather-CLEAR', 'weather-MYST', 'season-SNOW'], data=enced.toarray())\n",
    "df_day = pd.concat([df_day, df_weather], axis=1)\n",
    "del df_day['weathersit']\n",
    "\n",
    "# 正規化を戻す\n",
    "df_day['temp'] = df_day['temp'] *  (39 - (-8)) + (-8)\n",
    "df_day['hum'] = df_day['hum'] * 100\n",
    "df_day['windspeed'] = df_day['windspeed'] * 67\n",
    "\n",
    "# 未使用の特徴量を削除\n",
    "del df_day['casual']\n",
    "del df_day['registered']\n",
    "del df_day['cnt']\n",
    "del df_day['mnth']\n",
    "del df_day['weekday']\n",
    "del df_day['atemp']\n",
    "\n",
    "df_day.head()"
   ]
  },
  {
   "cell_type": "code",
   "execution_count": null,
   "metadata": {},
   "outputs": [],
   "source": [
    "df_day.head()"
   ]
  },
  {
   "cell_type": "code",
   "execution_count": null,
   "metadata": {},
   "outputs": [],
   "source": [
    "# モデルの作成と学習\n",
    "\n",
    "from sklearn.linear_model import LinearRegression\n",
    "model = LinearRegression()\n",
    "model.fit(df_day, Y)\n",
    "\n",
    "# 標準偏差\n",
    "pred = model.predict(df_day)\n",
    "num = df_day.shape[0]\n",
    "sigma = np.sqrt(np.sum(np.square(Y - pred))) / (num - 1)\n",
    "\n",
    "# 標準偏差から標準誤差\n",
    "se = sigma / np.sqrt(num)\n",
    "\n",
    "print(\"標準偏差 :\", sigma)\n",
    "print(\"標準誤差 :\", se)"
   ]
  },
  {
   "cell_type": "code",
   "execution_count": null,
   "metadata": {},
   "outputs": [],
   "source": [
    "#print(\"weight: \", model.coef_)\n",
    "print(\"%16s: %16f\" % (\"inteception\", model.intercept_))\n",
    "# 名前と正規化\n",
    "parms = ['days', 'holiday', 'workingday', 'temp', 'hum', 'windspeed', \n",
    "         'season-SPRING', 'season-SUMMER',  'season-FALL',  'season-WINTER',\n",
    "         'weather-CLEAR', 'weather-MYST',  'season-SNOW'\n",
    "]\n",
    "\n",
    "\n",
    "\n",
    "for name, weight in zip(parms, model.coef_):\n",
    "    print(\"%16s: %16f \" % (name, weight))\n",
    "\n"
   ]
  },
  {
   "cell_type": "code",
   "execution_count": null,
   "metadata": {},
   "outputs": [],
   "source": []
  }
 ],
 "metadata": {
  "kernelspec": {
   "display_name": "Python 3",
   "language": "python",
   "name": "python3"
  },
  "language_info": {
   "codemirror_mode": {
    "name": "ipython",
    "version": 3
   },
   "file_extension": ".py",
   "mimetype": "text/x-python",
   "name": "python",
   "nbconvert_exporter": "python",
   "pygments_lexer": "ipython3",
   "version": "3.7.0"
  }
 },
 "nbformat": 4,
 "nbformat_minor": 2
}
