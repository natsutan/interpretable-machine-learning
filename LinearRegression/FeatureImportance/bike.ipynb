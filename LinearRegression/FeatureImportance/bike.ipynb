{
 "cells": [
  {
   "cell_type": "markdown",
   "metadata": {},
   "source": [
    "# bikeレンタルの特徴量の解釈\n",
    "https://christophm.github.io/interpretable-ml-book/limo.html"
   ]
  },
  {
   "cell_type": "code",
   "execution_count": null,
   "metadata": {},
   "outputs": [],
   "source": [
    "import os\n",
    "import matplotlib\n",
    "import matplotlib.pyplot as plt\n",
    "import numpy as np\n",
    "import sklearn\n",
    "from pandas import Series, DataFrame\n",
    "import pandas as pd\n",
    "%matplotlib inline\n",
    "os.getcwd()"
   ]
  },
  {
   "cell_type": "code",
   "execution_count": null,
   "metadata": {},
   "outputs": [],
   "source": [
    "data_dir = '../../data/bike'\n",
    "day_file = 'day.csv'\n",
    "hour_file = 'hour.csv'"
   ]
  },
  {
   "cell_type": "markdown",
   "metadata": {},
   "source": [
    "## データの意味\n",
    "\n",
    "- cnt:casualとregisteredのユーザーの数。回帰のターゲット\n",
    "- season:spring, summer, fall or winter.\n",
    "- holiday\n",
    "- year: 2011 or 2012.\n",
    "- dateday:2011/01/01からの日数。この特料量は時間経過によるトレンドを導くのに使用する。\n",
    "- working day or weekend.\n",
    "- 天気:\n",
    "    - clear, few clouds, partly cloudy, cloudy\n",
    "    - mist + clouds, mist + broken clouds, mist + few clouds, mist\n",
    "    - light snow, light rain + thunderstorm + scattered clouds, light rain + scattered clouds\n",
    "    - heavy rain + ice pallets + thunderstorm + mist, snow + mist\n",
    "- 温度：Temperature in degrees Celsius.41で割り、正規化されている。\n",
    "- atemp：体感温度。50で割り、正規化されている。\n",
    "- hum:湿度(0 to 100). 100で割り正規化されている。\n",
    "- Wind speed: km/hour.　67で割り、正規化されている。\n"
   ]
  },
  {
   "cell_type": "code",
   "execution_count": null,
   "metadata": {},
   "outputs": [],
   "source": [
    "df_day = pd.read_csv(os.path.join(data_dir, day_file))\n",
    "df_day\n"
   ]
  },
  {
   "cell_type": "code",
   "execution_count": null,
   "metadata": {},
   "outputs": [],
   "source": [
    "# データを取り出す\n",
    "Y = df_day['cnt']\n",
    "X = df_day['hum'] * 100"
   ]
  },
  {
   "cell_type": "code",
   "execution_count": null,
   "metadata": {},
   "outputs": [],
   "source": [
    "# データの確認\n",
    "fig = plt.figure()\n",
    "\n",
    "ax = fig.add_subplot(1,1,1)\n",
    "\n",
    "ax.scatter(X,Y)\n",
    "\n",
    "ax.set_title('first scatter plot')\n",
    "ax.set_xlabel('x')\n",
    "ax.set_ylabel('y')\n",
    "\n",
    "fig.show()"
   ]
  },
  {
   "cell_type": "code",
   "execution_count": null,
   "metadata": {},
   "outputs": [],
   "source": [
    "# https://qiita.com/yshi12/items/9f3f8ae69588da9f018f\n",
    "#X = np.array([[value, 1] for value in X])\n",
    "#Y = np.array([[value, 1] for value in Y])\n",
    "\n",
    "X = np.c_[X]\n",
    "Y = np.c_[Y]"
   ]
  },
  {
   "cell_type": "code",
   "execution_count": null,
   "metadata": {},
   "outputs": [],
   "source": [
    "# 線形回帰\n",
    "from sklearn import linear_model\n",
    "model = linear_model.LinearRegression()\n",
    "#X = X.reshape(1, -1)\n",
    "#Y = Y.reshape(1, -1)\n",
    "\n",
    "model.fit(X, Y)"
   ]
  },
  {
   "cell_type": "code",
   "execution_count": null,
   "metadata": {},
   "outputs": [],
   "source": [
    "model.predict([[0.5]])"
   ]
  },
  {
   "cell_type": "code",
   "execution_count": null,
   "metadata": {},
   "outputs": [],
   "source": [
    "model.coef_"
   ]
  },
  {
   "cell_type": "code",
   "execution_count": null,
   "metadata": {},
   "outputs": [],
   "source": []
  },
  {
   "cell_type": "code",
   "execution_count": null,
   "metadata": {},
   "outputs": [],
   "source": []
  }
 ],
 "metadata": {
  "kernelspec": {
   "display_name": "Python 3",
   "language": "python",
   "name": "python3"
  },
  "language_info": {
   "codemirror_mode": {
    "name": "ipython",
    "version": 3
   },
   "file_extension": ".py",
   "mimetype": "text/x-python",
   "name": "python",
   "nbconvert_exporter": "python",
   "pygments_lexer": "ipython3",
   "version": "3.6.7"
  }
 },
 "nbformat": 4,
 "nbformat_minor": 2
}
