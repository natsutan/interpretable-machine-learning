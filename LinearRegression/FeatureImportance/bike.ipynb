{
 "cells": [
  {
   "cell_type": "markdown",
   "metadata": {},
   "source": [
    "# bikeレンタルの特徴量の解釈\n",
    "https://christophm.github.io/interpretable-ml-book/limo.html"
   ]
  },
  {
   "cell_type": "code",
   "execution_count": null,
   "metadata": {},
   "outputs": [],
   "source": [
    "import os\n",
    "import copy\n",
    "import matplotlib\n",
    "import matplotlib.pyplot as plt\n",
    "import numpy as np\n",
    "import sklearn\n",
    "from sklearn import linear_model\n",
    "from sklearn.preprocessing import LabelBinarizer\n",
    "from sklearn.preprocessing import OneHotEncoder\n",
    "from pandas import Series, DataFrame\n",
    "import pandas as pd\n",
    "%matplotlib inline\n",
    "os.getcwd()"
   ]
  },
  {
   "cell_type": "code",
   "execution_count": null,
   "metadata": {},
   "outputs": [],
   "source": [
    "data_dir = '../../data/bike'\n",
    "day_file = 'day.csv'\n",
    "hour_file = 'hour.csv'"
   ]
  },
  {
   "cell_type": "markdown",
   "metadata": {},
   "source": [
    "## データの意味\n",
    "\n",
    "- cnt:casualとregisteredのユーザーの数。回帰のターゲット\n",
    "- season:spring, summer, fall or winter.\n",
    "- holiday\n",
    "- year: 2011 or 2012.\n",
    "- dateday:2011/01/01からの日数。この特料量は時間経過によるトレンドを導くのに使用する。\n",
    "- working day or weekend.\n",
    "- 天気:\n",
    "    - 1 clear, few clouds, partly cloudy, cloudy\n",
    "    - 2 mist + clouds, mist + broken clouds, mist + few clouds, mist\n",
    "    - 3 light snow, light rain + thunderstorm + scattered clouds, light rain + scattered clouds\n",
    "    - 4 heavy rain + ice pallets + thunderstorm + mist, snow + mist\n",
    "- temp：Temperature in degrees Celsius.41で割り、正規化されている。\n",
    "- atemp：体感温度。50で割り、正規化されている。\n",
    "- hum:湿度(0 to 100). 100で割り正規化されている。\n",
    "- Wind speed: km/hour.　67で割り、正規化されている。\n"
   ]
  },
  {
   "cell_type": "code",
   "execution_count": null,
   "metadata": {},
   "outputs": [],
   "source": [
    "df_day = pd.read_csv(os.path.join(data_dir, day_file))\n",
    "df_day\n"
   ]
  },
  {
   "cell_type": "code",
   "execution_count": null,
   "metadata": {},
   "outputs": [],
   "source": [
    "# データを取り出す\n",
    "Y = df_day['cnt']\n",
    "X_season = df_day['season'] \n",
    "\n",
    "# -----------------------------------------------------------\n",
    "# 季節の変化\n",
    "Y = np.c_[Y]\n",
    "X_season = np.c_[X_season]\n",
    "\n",
    "enc = LabelBinarizer()\n",
    "onehot_X = enc.fit_transform(X_season)\n",
    "\n",
    "X_spring = onehot_X[:,0].reshape(-1, 1)\n",
    "X_summer = onehot_X[:,1].reshape(-1, 1)\n",
    "X_fall = onehot_X[:,2].reshape(-1, 1)\n",
    "X_winter = onehot_X[:,3].reshape(-1, 1)\n",
    "\n",
    "# -----------------------------------------------------------\n",
    "# 休日\n",
    "X_holiday = df_day['holiday']\n",
    "X_holiday = np.c_[X_holiday]\n",
    "\n",
    "ohe = OneHotEncoder(sparse=False)\n",
    "onehot_X = ohe.fit_transform(X_holiday+1)\n",
    "X_workingday = onehot_X[:,0].reshape(-1, 1)\n",
    "X_holiday = X_holiday.reshape(-1, 1)\n",
    "\n",
    "# -----------------------------------------------------------\n",
    "# 天気\n",
    "X_weather = df_day['weathersit'] \n",
    "X_weather = np.c_[X_weather]\n",
    "\n",
    "## コピーの作成\n",
    "X_weathersitMISTY = X_weather.copy()\n",
    "X_weathersitMISTY[X_weathersitMISTY != 2] = 0\n",
    "X_weathersitMISTY[X_weathersitMISTY == 2] = 1\n",
    "\n",
    "## コピーの作成\n",
    "weathersitRAIN_SNOW_STORM = X_weather.copy()\n",
    "is_wheater_RAIN_SNOW_STORM = np.logical_or(weathersitRAIN_SNOW_STORM == 3, weathersitRAIN_SNOW_STORM == 4)\n",
    "\n",
    "weathersitRAIN_SNOW_STORM[np.logical_not(is_wheater_RAIN_SNOW_STORM)] = 0\n",
    "weathersitRAIN_SNOW_STORM[is_wheater_RAIN_SNOW_STORM] = 1\n",
    "\n",
    "# 温度、湿度、風速、経過日数\n",
    "X_temp = df_day['temp']  * 41\n",
    "X_hum = df_day['hum'] * 100\n",
    "X_windspeed = df_day['windspeed'] * 47\n",
    "\n",
    "X_temp = np.c_[X_temp]\n",
    "X_hum = np.c_[X_hum]\n",
    "X_windspeed = np.c_[X_windspeed]\n",
    "X_day = np.arange(X_temp.shape[0]).reshape(-1, 1)\n"
   ]
  },
  {
   "cell_type": "code",
   "execution_count": null,
   "metadata": {},
   "outputs": [],
   "source": [
    "# 回帰係数の標準誤差による t 検定\n",
    "#def "
   ]
  },
  {
   "cell_type": "code",
   "execution_count": null,
   "metadata": {},
   "outputs": [],
   "source": [
    "# 処理の順番\n",
    "all_X = [X_spring, X_summer,X_fall,X_winter, X_workingday, X_holiday, X_weathersitMISTY, weathersitRAIN_SNOW_STORM, X_temp, X_hum, X_windspeed,X_day]\n",
    "# all_X = [X_temp, ]\n",
    "all_models = []\n",
    "all_weights = []\n",
    "\n",
    "for X in all_X:\n",
    "    model = linear_model.LinearRegression()\n",
    "    model.fit(X, Y)\n",
    "    all_models.append(copy.deepcopy(model))\n",
    "    all_weights.append(model.coef_)"
   ]
  },
  {
   "cell_type": "code",
   "execution_count": null,
   "metadata": {},
   "outputs": [],
   "source": [
    "# データの確認\n",
    "# fig = plt.figure()\n",
    "#ax = fig.add_subplot(1,1,1)\n",
    "#ax.scatter(X,Y)\n",
    "\n",
    "#ax.set_title('first scatter plot')\n",
    "#ax.set_xlabel('x')\n",
    "#ax.set_ylabel('y')\n",
    "\n",
    "#fig.show()"
   ]
  },
  {
   "cell_type": "code",
   "execution_count": null,
   "metadata": {},
   "outputs": [],
   "source": [
    "all_weights"
   ]
  },
  {
   "cell_type": "code",
   "execution_count": null,
   "metadata": {},
   "outputs": [],
   "source": [
    "# 線形回帰\n",
    "from sklearn import linear_model\n",
    "model = linear_model.LinearRegression()\n",
    "\n",
    "model.fit(X_summer, Y)"
   ]
  },
  {
   "cell_type": "code",
   "execution_count": null,
   "metadata": {},
   "outputs": [],
   "source": [
    "model.predict([[0.5]])"
   ]
  },
  {
   "cell_type": "code",
   "execution_count": null,
   "metadata": {},
   "outputs": [],
   "source": [
    "model.coef_"
   ]
  },
  {
   "cell_type": "code",
   "execution_count": null,
   "metadata": {},
   "outputs": [],
   "source": []
  },
  {
   "cell_type": "code",
   "execution_count": null,
   "metadata": {},
   "outputs": [],
   "source": []
  }
 ],
 "metadata": {
  "kernelspec": {
   "display_name": "Python 3",
   "language": "python",
   "name": "python3"
  },
  "language_info": {
   "codemirror_mode": {
    "name": "ipython",
    "version": 3
   },
   "file_extension": ".py",
   "mimetype": "text/x-python",
   "name": "python",
   "nbconvert_exporter": "python",
   "pygments_lexer": "ipython3",
   "version": "3.6.5"
  }
 },
 "nbformat": 4,
 "nbformat_minor": 2
}
